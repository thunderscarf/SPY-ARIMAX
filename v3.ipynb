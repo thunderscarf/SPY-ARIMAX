{
 "cells": [
  {
   "cell_type": "code",
   "execution_count": null,
   "metadata": {},
   "outputs": [
    {
     "name": "stdout",
     "output_type": "stream",
     "text": [
      "DatetimeIndex(['2024-01-02 00:00:00+00:00', '2024-01-03 00:00:00+00:00',\n",
      "               '2024-01-04 00:00:00+00:00', '2024-01-05 00:00:00+00:00',\n",
      "               '2024-01-08 00:00:00+00:00', '2024-01-09 00:00:00+00:00',\n",
      "               '2024-01-10 00:00:00+00:00', '2024-01-11 00:00:00+00:00',\n",
      "               '2024-01-12 00:00:00+00:00', '2024-01-16 00:00:00+00:00',\n",
      "               ...\n",
      "               '2025-03-11 00:00:00+00:00', '2025-03-12 00:00:00+00:00',\n",
      "               '2025-03-13 00:00:00+00:00', '2025-03-14 00:00:00+00:00',\n",
      "               '2025-03-17 00:00:00+00:00', '2025-03-18 00:00:00+00:00',\n",
      "               '2025-03-19 00:00:00+00:00', '2025-03-20 00:00:00+00:00',\n",
      "               '2025-03-21 00:00:00+00:00', '2025-03-24 00:00:00+00:00'],\n",
      "              dtype='datetime64[ns, UTC]', length=307, freq='C')\n"
     ]
    }
   ],
   "source": [
    "from datetime import datetime, timedelta\n",
    "from pandas_market_calendars import get_calendar\n",
    "\n",
    "import yfinance as yf\n",
    "import pandas as pd\n",
    "import numpy as np\n",
    "import pmdarima as pm\n",
    "import requests\n",
    "import time\n",
    "import matplotlib.pyplot as plt\n",
    "\n",
    "BACKTEST_STARTDATE = '2024-01-01' #YYYY-MM-DD\n",
    "TICKERS = ['SPY', 'XLC', 'XLY', 'XLP', 'XLE', 'XLF', 'XLV', 'XLI', 'XLB', 'XLRE', 'XLK', 'XLU', 'VIX']\n",
    "\n",
    "nyse_cal = get_calendar('NYSE')\n",
    "trading_dates = nyse_cal.valid_days(start_date=BACKTEST_STARTDATE, end_date=datetime.today())\n",
    "\n",
    "spy_bar_request = requests.get(f\"https://api.polygon.io/v2/aggs/ticker/SPY/range/1/day/{start_date}/{trade_date}?adjusted=true&sort=asc&limit=50000&apiKey={polygon_api_key}\").json()\n",
    "\n",
    "spy_bars = pd.json_normalize(spy_bar_request[\"results\"])\n",
    "spy_bars[\"t\"] = pd.to_datetime(spy_bars[\"t\"], unit = \"ms\", utc = True)\n",
    "spy_bars = spy_bars.set_index(\"t\")\n",
    "spy_bars.index = spy_bars.index.tz_convert(\"US/Eastern\")\n",
    "\n",
    "SPY_Open = spy_bars.copy()\n",
    "\n",
    "\n"
   ]
  },
  {
   "cell_type": "code",
   "execution_count": null,
   "metadata": {},
   "outputs": [],
   "source": []
  }
 ],
 "metadata": {
  "kernelspec": {
   "display_name": "Python 3",
   "language": "python",
   "name": "python3"
  },
  "language_info": {
   "codemirror_mode": {
    "name": "ipython",
    "version": 3
   },
   "file_extension": ".py",
   "mimetype": "text/x-python",
   "name": "python",
   "nbconvert_exporter": "python",
   "pygments_lexer": "ipython3",
   "version": "3.12.8"
  }
 },
 "nbformat": 4,
 "nbformat_minor": 2
}
